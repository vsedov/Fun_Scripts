{
 "cells": [
  {
   "cell_type": "markdown",
   "id": "f20fdb08",
   "metadata": {},
   "source": [
    "Though i was aware of python collections, i was unsure of the true uses and the way that these are all used . \n",
    "\n",
    "Python Collections are specialized containers and datatypes providing alternatives to pythongs default containers . \n",
    "\n",
    "recall when you have a defaultdict it allways a container to be added with ease . \n",
    "\n",
    "defaultdict is a dict for all practical purpose. You don’t need to learn new syntax or understand anything special to start using dict.\n",
    "\n",
    "    defaultdict is dict with Default Values where you’ll never get a KeyError\n",
    "    \n",
    "   "
   ]
  },
  {
   "cell_type": "code",
   "execution_count": 1,
   "id": "9594228f",
   "metadata": {},
   "outputs": [
    {
     "ename": "KeyError",
     "evalue": "'some key'",
     "output_type": "error",
     "traceback": [
      "\u001b[0;31m---------------------------------------------------------------------------\u001b[0m",
      "\u001b[0;31mKeyError\u001b[0m                                  Traceback (most recent call last)",
      "\u001b[0;32m<ipython-input-1-200b798cc72d>\u001b[0m in \u001b[0;36m<module>\u001b[0;34m\u001b[0m\n\u001b[1;32m      1\u001b[0m \u001b[0msome_dict\u001b[0m \u001b[0;34m=\u001b[0m \u001b[0;34m{\u001b[0m\u001b[0;34m}\u001b[0m\u001b[0;34m\u001b[0m\u001b[0;34m\u001b[0m\u001b[0m\n\u001b[0;32m----> 2\u001b[0;31m \u001b[0mvalue_1\u001b[0m \u001b[0;34m=\u001b[0m \u001b[0msome_dict\u001b[0m\u001b[0;34m[\u001b[0m\u001b[0;34m\"some key\"\u001b[0m\u001b[0;34m]\u001b[0m\u001b[0;34m\u001b[0m\u001b[0;34m\u001b[0m\u001b[0m\n\u001b[0m",
      "\u001b[0;31mKeyError\u001b[0m: 'some key'"
     ]
    }
   ],
   "source": [
    "some_dict = {}\n",
    "value_1 = some_dict[\"somekey\"]"
   ]
  },
  {
   "cell_type": "markdown",
   "id": "f3cc3537",
   "metadata": {},
   "source": [
    "In this case , you see thatsome key is not there and that you got an error with this . \n",
    "default dict saves us from this . \n",
    "\n",
    "\n",
    "- when it is accessed if the key is not present in the dictionary it will create the keys so no chance of getting a key error \n",
    "\n",
    "- While creating the defaultdict you need to provide a defautl value which will be assigned to the key this is done automatically ... in which a key would be provided if you wanted  . \n"
   ]
  },
  {
   "cell_type": "code",
   "execution_count": 6,
   "id": "22ae2743",
   "metadata": {},
   "outputs": [
    {
     "name": "stdout",
     "output_type": "stream",
     "text": [
      "defaultdict(<class 'list'>, {\n",
      "    'a': ['a'],\n",
      "    'b': ['b'],\n",
      "    'e': ['e', 'e', 'e', 'e'],\n",
      "    'f': ['f'],\n",
      "    'g': ['g', 'g'],\n",
      "    'h': ['h', 'h'],\n",
      "    'i': ['i', 'i', 'i'],\n",
      "    'k': ['k'],\n",
      "    'l': ['l'],\n",
      "    'n': ['n'],\n",
      "    'o': ['o'],\n",
      "    'q': ['q'],\n",
      "    'r': ['r', 'r', 'r', 'r'],\n",
      "    's': ['s', 's'],\n",
      "    't': ['t', 't', 't', 't'],\n",
      "    'u': ['u'],\n",
      "})\n"
     ]
    }
   ],
   "source": [
    "from collections import defaultdict\n",
    "import string\n",
    "from pprintpp import pprint as pp\n",
    "\n",
    "alpha = string.ascii_lowercase\n",
    "mapped = defaultdict(list) \n",
    "# this list will be our key value\n",
    "sen = \"like the thing goes quite fast , brrrr\"\n",
    "for i in sen:\n",
    "    point = i.lower()\n",
    "    if point in alpha :\n",
    "        mapped[point].append(point)\n",
    "        \n",
    "        \n",
    "pp(mapped)"
   ]
  },
  {
   "cell_type": "markdown",
   "id": "cccb9d2d",
   "metadata": {},
   "source": [
    "Ideally what ever infomation that you push in , will be a basis of what your key value will be . \n",
    "\n",
    "What you do here is you have a dict with a list  . \n",
    "\n",
    "you can also do the same thing when it comes to tuples as well . "
   ]
  },
  {
   "cell_type": "code",
   "execution_count": 7,
   "id": "28fa6eba",
   "metadata": {},
   "outputs": [
    {
     "name": "stdout",
     "output_type": "stream",
     "text": [
      "defaultdict(<class 'tuple'>, {'some_key': (1, 2, 3, 4)})\n"
     ]
    }
   ],
   "source": [
    "from collections import defaultdict\n",
    "\n",
    "diction = defaultdict(tuple)\n",
    "diction[\"some_key\"]\n",
    "diction[\"some_key\"] = (1,2,3,4)\n",
    "\n",
    "print(diction)"
   ]
  },
  {
   "cell_type": "markdown",
   "id": "0dcfa47e",
   "metadata": {},
   "source": [
    "With this you can even push a Dictionary into this as well , which is rather nice . \n",
    "Another thing that you can do is also push a lambda function into it . where you have some functions pushed into it , depending on teh vlaues , you can even have a total function  . there possibilities are endless .\n",
    "\n",
    "Weirdly enough for some reason i had never come across this while programming , so its very nice to have . will use in the future .\n",
    "\n",
    "if there are other things that i have not covered here , might of been because it was too easy . \n"
   ]
  }
 ],
 "metadata": {
  "kernelspec": {
   "display_name": "Python 3",
   "language": "python",
   "name": "python3"
  },
  "language_info": {
   "codemirror_mode": {
    "name": "ipython",
    "version": 3
   },
   "file_extension": ".py",
   "mimetype": "text/x-python",
   "name": "python",
   "nbconvert_exporter": "python",
   "pygments_lexer": "ipython3",
   "version": "3.9.5"
  }
 },
 "nbformat": 4,
 "nbformat_minor": 5
}
